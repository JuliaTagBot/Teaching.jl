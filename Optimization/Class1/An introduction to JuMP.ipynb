{
 "cells": [
  {
   "cell_type": "markdown",
   "metadata": {},
   "source": [
    "# An introduction to JuMP\n",
    "\n",
    "This tutorial is based on a tutorial presented at the [2019 Grid Science Winter School](https://github.com/lanl-ansi/tutorial-grid-science-2019)\n",
    "\n",
    "This tutorial doesn't exist in isolation. Some other good resources for learning JuMP are\n",
    "- [the Discourse forum](https://discourse.julialang.org/c/domain/opt)\n",
    "- [JuMP documentation](http://www.juliaopt.org/JuMP.jl/v0.19.0/)\n",
    "- [JuMP examples](https://github.com/JuliaOpt/JuMP.jl/tree/release-0.19/examples)\n",
    "- [Textbook: Julia Programming for Operations Research](http://www.chkwon.net/julia/)\n",
    "\n",
    "Before we start, run the following magic sauce to install the required Julia packages and check that we're good to go."
   ]
  },
  {
   "cell_type": "code",
   "execution_count": 1,
   "metadata": {},
   "outputs": [
    {
     "name": "stdout",
     "output_type": "stream",
     "text": [
      "\u001b[32m\u001b[1m  Updating\u001b[22m\u001b[39m registry at `~/.julia/registries/General`\n",
      "\u001b[32m\u001b[1m  Updating\u001b[22m\u001b[39m git-repo `https://github.com/JuliaRegistries/General.git`\n",
      "\u001b[?25l\u001b[2K\u001b[?25hExcellent! Everything is good to go!\n"
     ]
    }
   ],
   "source": [
    "import Pkg\n",
    "Pkg.activate(@__DIR__)\n",
    "Pkg.instantiate()\n",
    "println(\"Excellent! Everything is good to go!\")"
   ]
  },
  {
   "cell_type": "markdown",
   "metadata": {},
   "source": [
    "## The basics"
   ]
  },
  {
   "cell_type": "markdown",
   "metadata": {},
   "source": [
    "First, load the JuMP package into your current environment."
   ]
  },
  {
   "cell_type": "code",
   "execution_count": 2,
   "metadata": {},
   "outputs": [],
   "source": [
    "using JuMP, GLPK"
   ]
  },
  {
   "cell_type": "markdown",
   "metadata": {},
   "source": [
    "Start building a JuMP model like so,"
   ]
  },
  {
   "cell_type": "code",
   "execution_count": 3,
   "metadata": {},
   "outputs": [
    {
     "data": {
      "text/latex": [
       "$$ \\begin{alignat*}{1}\\text{feasibility}\\\\\n",
       "\\text{Subject to} \\quad & y \\geq 0.0\\\\\n",
       " & z \\geq 1.0\\\\\n",
       " & z \\leq 2.0\\\\\n",
       "\\end{alignat*}\n",
       " $$"
      ],
      "text/plain": [
       "A JuMP Model\n",
       "Feasibility problem with:\n",
       "Variables: 3\n",
       "`VariableRef`-in-`MathOptInterface.GreaterThan{Float64}`: 2 constraints\n",
       "`VariableRef`-in-`MathOptInterface.LessThan{Float64}`: 1 constraint\n",
       "Model mode: AUTOMATIC\n",
       "CachingOptimizer state: NO_OPTIMIZER\n",
       "Solver name: No optimizer attached.\n",
       "Names registered in the model: x, y, z"
      ]
     },
     "execution_count": 3,
     "metadata": {},
     "output_type": "execute_result"
    }
   ],
   "source": [
    "model = Model()\n",
    "@variable(model, x)\n",
    "@variable(model, y >= 0)\n",
    "@variable(model, 1 <= z <= 2)\n",
    "model"
   ]
  },
  {
   "cell_type": "markdown",
   "metadata": {},
   "source": [
    "### What's going on here?\n",
    "`@variable(model, x)` does four things:\n",
    "1. it adds an *optimization* variable to the model\n",
    "2. it creates a *JuMP* variable that acts as a reference to the optimization variable in the model\n",
    "3. it creates a *Julia* variable `x` that points to the JuMP variable\n",
    "4. it stores a reference to the JuMP variable in the model with the name `:x`"
   ]
  },
  {
   "cell_type": "code",
   "execution_count": 4,
   "metadata": {},
   "outputs": [
    {
     "data": {
      "text/latex": [
       "$$ x $$"
      ],
      "text/plain": [
       "x"
      ]
     },
     "execution_count": 4,
     "metadata": {},
     "output_type": "execute_result"
    }
   ],
   "source": [
    "model = Model()\n",
    "@variable(model, x >= 1.414)"
   ]
  },
  {
   "cell_type": "code",
   "execution_count": 5,
   "metadata": {},
   "outputs": [
    {
     "data": {
      "text/plain": [
       "VariableRef"
      ]
     },
     "execution_count": 5,
     "metadata": {},
     "output_type": "execute_result"
    }
   ],
   "source": [
    "# x is a JuMP variable\n",
    "typeof(x)"
   ]
  },
  {
   "cell_type": "code",
   "execution_count": 6,
   "metadata": {},
   "outputs": [
    {
     "name": "stdout",
     "output_type": "stream",
     "text": [
      "typeof(y) = VariableRef\n",
      "typeof(x) = Int64\n"
     ]
    },
    {
     "data": {
      "text/latex": [
       "$$ x $$"
      ],
      "text/plain": [
       "x"
      ]
     },
     "execution_count": 6,
     "metadata": {},
     "output_type": "execute_result"
    }
   ],
   "source": [
    "# We can bind the JuMP variable to a different Julia variable and set `x` to something else\n",
    "y = x\n",
    "x = 1\n",
    "\n",
    "@show typeof(y)\n",
    "@show typeof(x)\n",
    "\n",
    "y"
   ]
  },
  {
   "cell_type": "code",
   "execution_count": 7,
   "metadata": {},
   "outputs": [
    {
     "data": {
      "text/plain": [
       "1.414"
      ]
     },
     "execution_count": 7,
     "metadata": {},
     "output_type": "execute_result"
    }
   ],
   "source": [
    "JuMP.lower_bound(y)"
   ]
  },
  {
   "cell_type": "code",
   "execution_count": 8,
   "metadata": {},
   "outputs": [
    {
     "data": {
      "text/latex": [
       "$$ x $$"
      ],
      "text/plain": [
       "x"
      ]
     },
     "execution_count": 8,
     "metadata": {},
     "output_type": "execute_result"
    }
   ],
   "source": [
    "model[:x]"
   ]
  },
  {
   "cell_type": "code",
   "execution_count": 9,
   "metadata": {},
   "outputs": [
    {
     "data": {
      "text/plain": [
       "true"
      ]
     },
     "execution_count": 9,
     "metadata": {},
     "output_type": "execute_result"
    }
   ],
   "source": [
    "model[:x] == y"
   ]
  },
  {
   "cell_type": "markdown",
   "metadata": {},
   "source": [
    "### Other ways to create variables\n",
    "\n",
    "We can also create arrays of JuMP variables."
   ]
  },
  {
   "cell_type": "code",
   "execution_count": 10,
   "metadata": {},
   "outputs": [
    {
     "data": {
      "text/latex": [
       "$$ \\begin{alignat*}{1}\\text{feasibility}\\\\\n",
       "\\text{Subject to} \\quad & x_{1} \\geq 1.0\\\\\n",
       " & x_{2} \\geq 2.0\\\\\n",
       " & x_{3} \\geq 3.0\\\\\n",
       " & x_{4} \\geq 4.0\\\\\n",
       "\\end{alignat*}\n",
       " $$"
      ],
      "text/plain": [
       "A JuMP Model\n",
       "Feasibility problem with:\n",
       "Variables: 4\n",
       "`VariableRef`-in-`MathOptInterface.GreaterThan{Float64}`: 4 constraints\n",
       "Model mode: AUTOMATIC\n",
       "CachingOptimizer state: NO_OPTIMIZER\n",
       "Solver name: No optimizer attached.\n",
       "Names registered in the model: x"
      ]
     },
     "execution_count": 10,
     "metadata": {},
     "output_type": "execute_result"
    }
   ],
   "source": [
    "model = Model()\n",
    "@variable(model, x[i = 1:4] >= i)\n",
    "model"
   ]
  },
  {
   "cell_type": "markdown",
   "metadata": {},
   "source": [
    "The indices of the arrays don't have to be integers. They can be anything, like a string or a symbol."
   ]
  },
  {
   "cell_type": "code",
   "execution_count": 11,
   "metadata": {},
   "outputs": [
    {
     "data": {
      "text/latex": [
       "$$ \\begin{alignat*}{1}\\text{feasibility}\\\\\n",
       "\\text{Subject to} \\quad & x_{1,A} \\geq 1.0\\\\\n",
       " & x_{1,B} \\geq 1.0\\\\\n",
       " & x_{2,A} \\geq 2.0\\\\\n",
       " & x_{2,B} \\geq 2.0\\\\\n",
       "\\end{alignat*}\n",
       " $$"
      ],
      "text/plain": [
       "A JuMP Model\n",
       "Feasibility problem with:\n",
       "Variables: 4\n",
       "`VariableRef`-in-`MathOptInterface.GreaterThan{Float64}`: 4 constraints\n",
       "Model mode: AUTOMATIC\n",
       "CachingOptimizer state: NO_OPTIMIZER\n",
       "Solver name: No optimizer attached.\n",
       "Names registered in the model: x"
      ]
     },
     "execution_count": 11,
     "metadata": {},
     "output_type": "execute_result"
    }
   ],
   "source": [
    "model = Model()\n",
    "@variable(model, x[i = 1:2, j = [:A, :B]] >= i)\n",
    "model"
   ]
  },
  {
   "cell_type": "markdown",
   "metadata": {},
   "source": [
    "What if I want to add two variables with the same name?"
   ]
  },
  {
   "cell_type": "code",
   "execution_count": 12,
   "metadata": {},
   "outputs": [
    {
     "ename": "ErrorException",
     "evalue": "An object of name x is already attached to this model. If this is intended, consider using the anonymous construction syntax, e.g., x = @variable(model, [1:N], ...) where the name of the object does not appear inside the macro.",
     "output_type": "error",
     "traceback": [
      "An object of name x is already attached to this model. If this is intended, consider using the anonymous construction syntax, e.g., x = @variable(model, [1:N], ...) where the name of the object does not appear inside the macro.",
      "",
      "Stacktrace:",
      " [1] error(::String) at ./error.jl:33",
      " [2] _error_if_cannot_register(::Model, ::Symbol) at /home/guilhermebodin/.julia/packages/JuMP/jnmGG/src/macros.jl:309",
      " [3] top-level scope at /home/guilhermebodin/.julia/packages/JuMP/jnmGG/src/macros.jl:336",
      " [4] top-level scope at In[12]:3"
     ]
    }
   ],
   "source": [
    "model = Model()\n",
    "@variable(model, x >= 1)\n",
    "@variable(model, x >= 2)"
   ]
  },
  {
   "cell_type": "markdown",
   "metadata": {},
   "source": [
    "### Quiz Question\n",
    "\n",
    "What is the value of the following?"
   ]
  },
  {
   "cell_type": "code",
   "execution_count": 13,
   "metadata": {},
   "outputs": [
    {
     "data": {
      "text/plain": [
       "1.0"
      ]
     },
     "execution_count": 13,
     "metadata": {},
     "output_type": "execute_result"
    }
   ],
   "source": [
    "JuMP.lower_bound(x)"
   ]
  },
  {
   "cell_type": "markdown",
   "metadata": {},
   "source": [
    "### Constraints\n",
    "\n",
    "Now that we've seen how to create variables, let's look at constraints. Much of the syntax should be familiar."
   ]
  },
  {
   "cell_type": "code",
   "execution_count": 14,
   "metadata": {},
   "outputs": [
    {
     "data": {
      "text/latex": [
       "$$ \\begin{alignat*}{1}\\text{feasibility}\\\\\n",
       "\\text{Subject to} \\quad & x \\geq 0.0\\\\\n",
       " & y \\geq 0.0\\\\\n",
       " & 2 x + y = 1.0\\\\\n",
       " & 2 x + y \\geq 1.0\\\\\n",
       " & 2 x + y \\leq 1.0\\\\\n",
       "\\end{alignat*}\n",
       " $$"
      ],
      "text/plain": [
       "A JuMP Model\n",
       "Feasibility problem with:\n",
       "Variables: 2\n",
       "`VariableRef`-in-`MathOptInterface.GreaterThan{Float64}`: 2 constraints\n",
       "`GenericAffExpr{Float64,VariableRef}`-in-`MathOptInterface.EqualTo{Float64}`: 1 constraint\n",
       "`GenericAffExpr{Float64,VariableRef}`-in-`MathOptInterface.GreaterThan{Float64}`: 1 constraint\n",
       "`GenericAffExpr{Float64,VariableRef}`-in-`MathOptInterface.LessThan{Float64}`: 1 constraint\n",
       "Model mode: AUTOMATIC\n",
       "CachingOptimizer state: NO_OPTIMIZER\n",
       "Solver name: No optimizer attached.\n",
       "Names registered in the model: c_equal_to, c_greater_than, c_less_than, x, y"
      ]
     },
     "execution_count": 14,
     "metadata": {},
     "output_type": "execute_result"
    }
   ],
   "source": [
    "model = Model()\n",
    "@variable(model, x >= 0)\n",
    "@variable(model, y >= 0)\n",
    "\n",
    "@constraint(model, c_less_than, 2x + y <= 1)\n",
    "@constraint(model, c_greater_than, 2x + y >= 1)\n",
    "@constraint(model, c_equal_to, 2x + y == 1)\n",
    "\n",
    "model"
   ]
  },
  {
   "cell_type": "code",
   "execution_count": 15,
   "metadata": {},
   "outputs": [
    {
     "data": {
      "text/latex": [
       "c_equal_to : $ 2 x + y = 1.0 $"
      ],
      "text/plain": [
       "c_equal_to : 2 x + y = 1.0"
      ]
     },
     "execution_count": 15,
     "metadata": {},
     "output_type": "execute_result"
    }
   ],
   "source": [
    "model[:c_equal_to]"
   ]
  },
  {
   "cell_type": "code",
   "execution_count": 16,
   "metadata": {},
   "outputs": [
    {
     "data": {
      "text/latex": [
       "$$ \\begin{alignat*}{1}\\text{feasibility}\\\\\n",
       "\\text{Subject to} \\quad & x \\geq 0.0\\\\\n",
       " & y \\geq 0.0\\\\\n",
       " & 2 x + y = 1.0\\\\\n",
       " & 2 x + y \\geq 1.0\\\\\n",
       " & 2 x + y \\leq 1.0\\\\\n",
       " & x - y \\leq 0.0\\\\\n",
       " & 2 x - y \\leq 0.0\\\\\n",
       "\\end{alignat*}\n",
       " $$"
      ],
      "text/plain": [
       "A JuMP Model\n",
       "Feasibility problem with:\n",
       "Variables: 2\n",
       "`VariableRef`-in-`MathOptInterface.GreaterThan{Float64}`: 2 constraints\n",
       "`GenericAffExpr{Float64,VariableRef}`-in-`MathOptInterface.EqualTo{Float64}`: 1 constraint\n",
       "`GenericAffExpr{Float64,VariableRef}`-in-`MathOptInterface.GreaterThan{Float64}`: 1 constraint\n",
       "`GenericAffExpr{Float64,VariableRef}`-in-`MathOptInterface.LessThan{Float64}`: 3 constraints\n",
       "Model mode: AUTOMATIC\n",
       "CachingOptimizer state: NO_OPTIMIZER\n",
       "Solver name: No optimizer attached.\n",
       "Names registered in the model: c_equal_to, c_greater_than, c_less_than, x, y"
      ]
     },
     "execution_count": 16,
     "metadata": {},
     "output_type": "execute_result"
    }
   ],
   "source": [
    "anonymous_constraint = @constraint(model, [i = 1:2], i * x <= y)\n",
    "\n",
    "model"
   ]
  },
  {
   "cell_type": "markdown",
   "metadata": {},
   "source": [
    "### Objective Functions\n",
    "\n",
    "Now let's look at the objective function."
   ]
  },
  {
   "cell_type": "code",
   "execution_count": 17,
   "metadata": {},
   "outputs": [
    {
     "data": {
      "text/latex": [
       "$$ \\begin{alignat*}{1}\\min\\quad & 2 x + 1\\\\\n",
       "\\text{Subject to} \\quad & x \\geq 0.0\\\\\n",
       "\\end{alignat*}\n",
       " $$"
      ],
      "text/plain": [
       "A JuMP Model\n",
       "Minimization problem with:\n",
       "Variable: 1\n",
       "Objective function type: GenericAffExpr{Float64,VariableRef}\n",
       "`VariableRef`-in-`MathOptInterface.GreaterThan{Float64}`: 1 constraint\n",
       "Model mode: AUTOMATIC\n",
       "CachingOptimizer state: NO_OPTIMIZER\n",
       "Solver name: No optimizer attached.\n",
       "Names registered in the model: x"
      ]
     },
     "execution_count": 17,
     "metadata": {},
     "output_type": "execute_result"
    }
   ],
   "source": [
    "model = Model()\n",
    "@variable(model, x >= 0)\n",
    "\n",
    "@objective(model, Min, 2x + 1)\n",
    "\n",
    "model"
   ]
  },
  {
   "cell_type": "code",
   "execution_count": 18,
   "metadata": {},
   "outputs": [
    {
     "data": {
      "text/latex": [
       "$$ \\begin{alignat*}{1}\\max\\quad & 2 x + 1\\\\\n",
       "\\text{Subject to} \\quad & x \\leq 2.0\\\\\n",
       "\\end{alignat*}\n",
       " $$"
      ],
      "text/plain": [
       "A JuMP Model\n",
       "Maximization problem with:\n",
       "Variable: 1\n",
       "Objective function type: GenericAffExpr{Float64,VariableRef}\n",
       "`VariableRef`-in-`MathOptInterface.LessThan{Float64}`: 1 constraint\n",
       "Model mode: AUTOMATIC\n",
       "CachingOptimizer state: NO_OPTIMIZER\n",
       "Solver name: No optimizer attached.\n",
       "Names registered in the model: x"
      ]
     },
     "execution_count": 18,
     "metadata": {},
     "output_type": "execute_result"
    }
   ],
   "source": [
    "model = Model()\n",
    "@variable(model, x <= 2)\n",
    "\n",
    "@objective(model, Max, 2x + 1)\n",
    "\n",
    "model"
   ]
  },
  {
   "cell_type": "markdown",
   "metadata": {},
   "source": [
    "### Solving a Model\n",
    "\n",
    "Once we've formulated a model, the next step is to solve it. This requires a solver.\n",
    "\n",
    "JuMP supports lots of different solvers. The [JuMP documentation](http://www.juliaopt.org/JuMP.jl/v0.19.0/installation/#Getting-Solvers-1) contains a list of the supported solvers and the types of problems each solver supports.\n",
    "\n",
    "We're going to use two solvers in particular.\n",
    "\n",
    "The first solver is the [GNU Linear Programming Kit (GLPK)](https://www.gnu.org/software/glpk/). This solver supports linear programs with continous variables.\n",
    "\n",
    "GLPK is available via the [GLPK.jl](https://github.com/JuliaOpt/GLPK.jl) package.\n",
    "\n",
    "We are going to start with a simple example:\n",
    "\n",
    "$$\n",
    "\\begin{align}\n",
    "%\n",
    "\\max_{x \\geq 0} & \\quad 4x_1 + 3x_2\\\\\n",
    "%\n",
    "\\mbox{s.t.: } & \\nonumber \\\\\n",
    "& 2x_1 + x_2 \\leq 4 \\\\\n",
    "& x_1 + 2x_2 \\leq 4 \\\\\n",
    "%\n",
    "\\end{align}\n",
    "$$"
   ]
  },
  {
   "cell_type": "code",
   "execution_count": 19,
   "metadata": {},
   "outputs": [
    {
     "data": {
      "text/latex": [
       "$$ \\begin{alignat*}{1}\\text{feasibility}\\\\\n",
       "\\text{Subject to} \\quad\\end{alignat*}\n",
       " $$"
      ],
      "text/plain": [
       "A JuMP Model\n",
       "Feasibility problem with:\n",
       "Variables: 0\n",
       "Model mode: AUTOMATIC\n",
       "CachingOptimizer state: EMPTY_OPTIMIZER\n",
       "Solver name: GLPK"
      ]
     },
     "execution_count": 19,
     "metadata": {},
     "output_type": "execute_result"
    }
   ],
   "source": [
    "production_model = Model(with_optimizer(GLPK.Optimizer))\n",
    "\n",
    "#TODO\n",
    "## variables\n",
    "\n",
    "## constraints\n",
    "\n",
    "## objective\n",
    "\n",
    "production_model"
   ]
  },
  {
   "cell_type": "code",
   "execution_count": 20,
   "metadata": {},
   "outputs": [
    {
     "name": "stdout",
     "output_type": "stream",
     "text": [
      "glp_add_cols: ncs = 0; invalid number of columns\n",
      "Error detected in file api/prob1.c at line 362\n"
     ]
    },
    {
     "ename": "GLPKFatalError",
     "evalue": "GLPKFatalError(\"GLPK call failed. All GLPK objects you defined so far are now invalidated.\")",
     "output_type": "error",
     "traceback": [
      "GLPKFatalError(\"GLPK call failed. All GLPK objects you defined so far are now invalidated.\")",
      "",
      "Stacktrace:",
      " [1] _err_hook(::Ptr{Nothing}) at /home/guilhermebodin/.julia/packages/GLPK/rw631/src/GLPK.jl:222",
      " [2] add_cols(::Prob, ::Int64) at /home/guilhermebodin/.julia/packages/GLPK/rw631/src/GLPK.jl:228",
      " [3] add_variables!(::GLPK.Optimizer, ::Int64) at /home/guilhermebodin/.julia/packages/GLPK/rw631/src/MOIWrapper.jl:515",
      " [4] add_variables(::GLPK.Optimizer, ::Int64) at /home/guilhermebodin/.julia/packages/LinQuadOptInterface/ZMx9f/src/variables.jl:122",
      " [5] add_variables at /home/guilhermebodin/.julia/packages/MathOptInterface/C3lip/src/Bridges/bridgeoptimizer.jl:363 [inlined]",
      " [6] default_copy_to(::MathOptInterface.Bridges.LazyBridgeOptimizer{GLPK.Optimizer,MathOptInterface.Utilities.UniversalFallback{MathOptInterface.Bridges.AllBridgedConstraints{Float64}}}, ::MathOptInterface.Utilities.UniversalFallback{JuMP._MOIModel{Float64}}, ::Bool) at /home/guilhermebodin/.julia/packages/MathOptInterface/C3lip/src/Utilities/copy.jl:186",
      " [7] #automatic_copy_to#61 at /home/guilhermebodin/.julia/packages/MathOptInterface/C3lip/src/Utilities/copy.jl:15 [inlined]",
      " [8] #automatic_copy_to at ./none:0 [inlined]",
      " [9] #copy_to#1 at /home/guilhermebodin/.julia/packages/MathOptInterface/C3lip/src/Bridges/bridgeoptimizer.jl:91 [inlined]",
      " [10] (::getfield(MathOptInterface, Symbol(\"#kw##copy_to\")))(::NamedTuple{(:copy_names,),Tuple{Bool}}, ::typeof(MathOptInterface.copy_to), ::MathOptInterface.Bridges.LazyBridgeOptimizer{GLPK.Optimizer,MathOptInterface.Utilities.UniversalFallback{MathOptInterface.Bridges.AllBridgedConstraints{Float64}}}, ::MathOptInterface.Utilities.UniversalFallback{JuMP._MOIModel{Float64}}) at ./none:0",
      " [11] attach_optimizer(::MathOptInterface.Utilities.CachingOptimizer{MathOptInterface.AbstractOptimizer,MathOptInterface.Utilities.UniversalFallback{JuMP._MOIModel{Float64}}}) at /home/guilhermebodin/.julia/packages/MathOptInterface/C3lip/src/Utilities/cachingoptimizer.jl:130",
      " [12] optimize!(::MathOptInterface.Utilities.CachingOptimizer{MathOptInterface.AbstractOptimizer,MathOptInterface.Utilities.UniversalFallback{JuMP._MOIModel{Float64}}}) at /home/guilhermebodin/.julia/packages/MathOptInterface/C3lip/src/Utilities/cachingoptimizer.jl:166",
      " [13] #optimize!#77(::Bool, ::Bool, ::Function, ::Model, ::Nothing) at /home/guilhermebodin/.julia/packages/JuMP/jnmGG/src/optimizer_interface.jl:132",
      " [14] optimize! at /home/guilhermebodin/.julia/packages/JuMP/jnmGG/src/optimizer_interface.jl:105 [inlined] (repeats 2 times)",
      " [15] top-level scope at In[20]:1"
     ]
    }
   ],
   "source": [
    "optimize!(production_model)"
   ]
  },
  {
   "cell_type": "code",
   "execution_count": 21,
   "metadata": {},
   "outputs": [
    {
     "ename": "NoOptimizer",
     "evalue": "NoOptimizer()",
     "output_type": "error",
     "traceback": [
      "NoOptimizer()",
      "",
      "Stacktrace:",
      " [1] _moi_get_result(::MathOptInterface.Utilities.CachingOptimizer{MathOptInterface.AbstractOptimizer,MathOptInterface.Utilities.UniversalFallback{JuMP._MOIModel{Float64}}}, ::MathOptInterface.VariablePrimal, ::Vararg{Any,N} where N) at /home/guilhermebodin/.julia/packages/JuMP/jnmGG/src/JuMP.jl:580",
      " [2] get(::Model, ::MathOptInterface.VariablePrimal, ::VariableRef) at /home/guilhermebodin/.julia/packages/JuMP/jnmGG/src/JuMP.jl:606",
      " [3] value(::VariableRef) at /home/guilhermebodin/.julia/packages/JuMP/jnmGG/src/variables.jl:721",
      " [4] _broadcast_getindex_evalf at ./broadcast.jl:582 [inlined]",
      " [5] _broadcast_getindex at ./broadcast.jl:555 [inlined]",
      " [6] getindex at ./broadcast.jl:515 [inlined]",
      " [7] copy at ./broadcast.jl:766 [inlined]",
      " [8] materialize(::Base.Broadcast.Broadcasted{Base.Broadcast.DefaultArrayStyle{0},Nothing,typeof(value),Tuple{Base.RefValue{VariableRef}}}) at ./broadcast.jl:756",
      " [9] top-level scope at In[21]:1"
     ]
    }
   ],
   "source": [
    "x_val = JuMP.value.(x)\n",
    "objval = JuMP.objective_value(production_model)\n",
    "\n",
    "@show x_val\n",
    "@show objval"
   ]
  },
  {
   "cell_type": "markdown",
   "metadata": {},
   "source": [
    "Another example\n",
    "$$\n",
    "\\begin{align}\n",
    "%\n",
    "\\min_{x, y \\geq 0} & \\quad \\sum_{i = 1}^{10} x_i + y_i\\\\\n",
    "%\n",
    "\\mbox{s.a.: } & \\nonumber \\\\\n",
    "& x_i + y_i \\geq 1 \\quad  \\forall i = 1 \\dots 10 \\\\\n",
    "& y_i = 0.7 \\quad  \\forall i = 1 \\dots 10 \\\\\n",
    "& 0.3 \\leq x_i \\leq 0.5 \\quad  \\forall i = 1 \\dots 10 \\\\\n",
    "%\n",
    "\\end{align}\n",
    "$$"
   ]
  },
  {
   "cell_type": "code",
   "execution_count": 22,
   "metadata": {},
   "outputs": [
    {
     "data": {
      "text/latex": [
       "$$ \\begin{alignat*}{1}\\text{feasibility}\\\\\n",
       "\\text{Subject to} \\quad\\end{alignat*}\n",
       " $$"
      ],
      "text/plain": [
       "A JuMP Model\n",
       "Feasibility problem with:\n",
       "Variables: 0\n",
       "Model mode: AUTOMATIC\n",
       "CachingOptimizer state: EMPTY_OPTIMIZER\n",
       "Solver name: GLPK"
      ]
     },
     "execution_count": 22,
     "metadata": {},
     "output_type": "execute_result"
    }
   ],
   "source": [
    "model1 = Model(with_optimizer(GLPK.Optimizer))\n",
    "\n",
    "#TODO\n",
    "## variables\n",
    "\n",
    "## constraints\n",
    "\n",
    "## objective\n",
    "\n",
    "\n",
    "model1"
   ]
  },
  {
   "cell_type": "code",
   "execution_count": 23,
   "metadata": {},
   "outputs": [
    {
     "name": "stdout",
     "output_type": "stream",
     "text": [
      "glp_add_cols: ncs = 0; invalid number of columns\n",
      "Error detected in file api/prob1.c at line 362\n"
     ]
    },
    {
     "ename": "GLPKFatalError",
     "evalue": "GLPKFatalError(\"GLPK call failed. All GLPK objects you defined so far are now invalidated.\")",
     "output_type": "error",
     "traceback": [
      "GLPKFatalError(\"GLPK call failed. All GLPK objects you defined so far are now invalidated.\")",
      "",
      "Stacktrace:",
      " [1] _err_hook(::Ptr{Nothing}) at /home/guilhermebodin/.julia/packages/GLPK/rw631/src/GLPK.jl:222",
      " [2] add_cols(::Prob, ::Int64) at /home/guilhermebodin/.julia/packages/GLPK/rw631/src/GLPK.jl:228",
      " [3] add_variables!(::GLPK.Optimizer, ::Int64) at /home/guilhermebodin/.julia/packages/GLPK/rw631/src/MOIWrapper.jl:515",
      " [4] add_variables(::GLPK.Optimizer, ::Int64) at /home/guilhermebodin/.julia/packages/LinQuadOptInterface/ZMx9f/src/variables.jl:122",
      " [5] add_variables at /home/guilhermebodin/.julia/packages/MathOptInterface/C3lip/src/Bridges/bridgeoptimizer.jl:363 [inlined]",
      " [6] default_copy_to(::MathOptInterface.Bridges.LazyBridgeOptimizer{GLPK.Optimizer,MathOptInterface.Utilities.UniversalFallback{MathOptInterface.Bridges.AllBridgedConstraints{Float64}}}, ::MathOptInterface.Utilities.UniversalFallback{JuMP._MOIModel{Float64}}, ::Bool) at /home/guilhermebodin/.julia/packages/MathOptInterface/C3lip/src/Utilities/copy.jl:186",
      " [7] #automatic_copy_to#61 at /home/guilhermebodin/.julia/packages/MathOptInterface/C3lip/src/Utilities/copy.jl:15 [inlined]",
      " [8] #automatic_copy_to at ./none:0 [inlined]",
      " [9] #copy_to#1 at /home/guilhermebodin/.julia/packages/MathOptInterface/C3lip/src/Bridges/bridgeoptimizer.jl:91 [inlined]",
      " [10] (::getfield(MathOptInterface, Symbol(\"#kw##copy_to\")))(::NamedTuple{(:copy_names,),Tuple{Bool}}, ::typeof(MathOptInterface.copy_to), ::MathOptInterface.Bridges.LazyBridgeOptimizer{GLPK.Optimizer,MathOptInterface.Utilities.UniversalFallback{MathOptInterface.Bridges.AllBridgedConstraints{Float64}}}, ::MathOptInterface.Utilities.UniversalFallback{JuMP._MOIModel{Float64}}) at ./none:0",
      " [11] attach_optimizer(::MathOptInterface.Utilities.CachingOptimizer{MathOptInterface.AbstractOptimizer,MathOptInterface.Utilities.UniversalFallback{JuMP._MOIModel{Float64}}}) at /home/guilhermebodin/.julia/packages/MathOptInterface/C3lip/src/Utilities/cachingoptimizer.jl:130",
      " [12] optimize!(::MathOptInterface.Utilities.CachingOptimizer{MathOptInterface.AbstractOptimizer,MathOptInterface.Utilities.UniversalFallback{JuMP._MOIModel{Float64}}}) at /home/guilhermebodin/.julia/packages/MathOptInterface/C3lip/src/Utilities/cachingoptimizer.jl:166",
      " [13] #optimize!#77(::Bool, ::Bool, ::Function, ::Model, ::Nothing) at /home/guilhermebodin/.julia/packages/JuMP/jnmGG/src/optimizer_interface.jl:132",
      " [14] optimize! at /home/guilhermebodin/.julia/packages/JuMP/jnmGG/src/optimizer_interface.jl:105 [inlined] (repeats 2 times)",
      " [15] top-level scope at In[23]:1"
     ]
    }
   ],
   "source": [
    "optimize!(model1)"
   ]
  },
  {
   "cell_type": "code",
   "execution_count": 24,
   "metadata": {},
   "outputs": [
    {
     "ename": "NoOptimizer",
     "evalue": "NoOptimizer()",
     "output_type": "error",
     "traceback": [
      "NoOptimizer()",
      "",
      "Stacktrace:",
      " [1] _moi_get_result(::MathOptInterface.Utilities.CachingOptimizer{MathOptInterface.AbstractOptimizer,MathOptInterface.Utilities.UniversalFallback{JuMP._MOIModel{Float64}}}, ::MathOptInterface.VariablePrimal, ::Vararg{Any,N} where N) at /home/guilhermebodin/.julia/packages/JuMP/jnmGG/src/JuMP.jl:580",
      " [2] get(::Model, ::MathOptInterface.VariablePrimal, ::VariableRef) at /home/guilhermebodin/.julia/packages/JuMP/jnmGG/src/JuMP.jl:606",
      " [3] value(::VariableRef) at /home/guilhermebodin/.julia/packages/JuMP/jnmGG/src/variables.jl:721",
      " [4] _broadcast_getindex_evalf at ./broadcast.jl:582 [inlined]",
      " [5] _broadcast_getindex at ./broadcast.jl:555 [inlined]",
      " [6] getindex at ./broadcast.jl:515 [inlined]",
      " [7] copy at ./broadcast.jl:766 [inlined]",
      " [8] materialize(::Base.Broadcast.Broadcasted{Base.Broadcast.DefaultArrayStyle{0},Nothing,typeof(value),Tuple{Base.RefValue{VariableRef}}}) at ./broadcast.jl:756",
      " [9] top-level scope at In[24]:1"
     ]
    }
   ],
   "source": [
    "x_val = JuMP.value.(x)\n",
    "y_val = JuMP.value.(y)\n",
    "objval = JuMP.objective_value(model1)\n",
    "objval = JuMP.termination_status(model1)\n",
    "\n",
    "@show x_val\n",
    "@show y_val\n",
    "@show objval"
   ]
  },
  {
   "cell_type": "markdown",
   "metadata": {},
   "source": [
    "What happen if we change the bounds of variable $x$ ?\n",
    "$$\n",
    "\\begin{align}\n",
    "%\n",
    "\\min_{x, y \\geq 0} & \\quad \\sum_{i = 1}^{10} x_i + y_i\\\\\n",
    "%\n",
    "\\mbox{s.a.: } & \\nonumber \\\\\n",
    "& x_i + y_i \\geq 1 \\quad  \\forall i = 1 \\dots 10 \\\\\n",
    "& y_i = 0.7 \\quad  \\forall i = 1 \\dots 10 \\\\\n",
    "& 0.1 \\leq x_i \\leq 0.2 \\quad  \\forall i = 1 \\dots 10 \\\\\n",
    "%\n",
    "\\end{align}\n",
    "$$"
   ]
  },
  {
   "cell_type": "code",
   "execution_count": 25,
   "metadata": {},
   "outputs": [
    {
     "data": {
      "text/latex": [
       "$$ \\begin{alignat*}{1}\\text{feasibility}\\\\\n",
       "\\text{Subject to} \\quad\\end{alignat*}\n",
       " $$"
      ],
      "text/plain": [
       "A JuMP Model\n",
       "Feasibility problem with:\n",
       "Variables: 0\n",
       "Model mode: AUTOMATIC\n",
       "CachingOptimizer state: EMPTY_OPTIMIZER\n",
       "Solver name: GLPK"
      ]
     },
     "execution_count": 25,
     "metadata": {},
     "output_type": "execute_result"
    }
   ],
   "source": [
    "model2 = Model(with_optimizer(GLPK.Optimizer))\n",
    "\n",
    "#TODO\n",
    "## variables\n",
    "\n",
    "## constraints\n",
    "\n",
    "## objective\n",
    "\n",
    "\n",
    "model2"
   ]
  },
  {
   "cell_type": "code",
   "execution_count": 26,
   "metadata": {},
   "outputs": [
    {
     "name": "stdout",
     "output_type": "stream",
     "text": [
      "glp_add_cols: ncs = 0; invalid number of columns\n",
      "Error detected in file api/prob1.c at line 362\n"
     ]
    },
    {
     "ename": "GLPKFatalError",
     "evalue": "GLPKFatalError(\"GLPK call failed. All GLPK objects you defined so far are now invalidated.\")",
     "output_type": "error",
     "traceback": [
      "GLPKFatalError(\"GLPK call failed. All GLPK objects you defined so far are now invalidated.\")",
      "",
      "Stacktrace:",
      " [1] _err_hook(::Ptr{Nothing}) at /home/guilhermebodin/.julia/packages/GLPK/rw631/src/GLPK.jl:222",
      " [2] add_cols(::Prob, ::Int64) at /home/guilhermebodin/.julia/packages/GLPK/rw631/src/GLPK.jl:228",
      " [3] add_variables!(::GLPK.Optimizer, ::Int64) at /home/guilhermebodin/.julia/packages/GLPK/rw631/src/MOIWrapper.jl:515",
      " [4] add_variables(::GLPK.Optimizer, ::Int64) at /home/guilhermebodin/.julia/packages/LinQuadOptInterface/ZMx9f/src/variables.jl:122",
      " [5] add_variables at /home/guilhermebodin/.julia/packages/MathOptInterface/C3lip/src/Bridges/bridgeoptimizer.jl:363 [inlined]",
      " [6] default_copy_to(::MathOptInterface.Bridges.LazyBridgeOptimizer{GLPK.Optimizer,MathOptInterface.Utilities.UniversalFallback{MathOptInterface.Bridges.AllBridgedConstraints{Float64}}}, ::MathOptInterface.Utilities.UniversalFallback{JuMP._MOIModel{Float64}}, ::Bool) at /home/guilhermebodin/.julia/packages/MathOptInterface/C3lip/src/Utilities/copy.jl:186",
      " [7] #automatic_copy_to#61 at /home/guilhermebodin/.julia/packages/MathOptInterface/C3lip/src/Utilities/copy.jl:15 [inlined]",
      " [8] #automatic_copy_to at ./none:0 [inlined]",
      " [9] #copy_to#1 at /home/guilhermebodin/.julia/packages/MathOptInterface/C3lip/src/Bridges/bridgeoptimizer.jl:91 [inlined]",
      " [10] (::getfield(MathOptInterface, Symbol(\"#kw##copy_to\")))(::NamedTuple{(:copy_names,),Tuple{Bool}}, ::typeof(MathOptInterface.copy_to), ::MathOptInterface.Bridges.LazyBridgeOptimizer{GLPK.Optimizer,MathOptInterface.Utilities.UniversalFallback{MathOptInterface.Bridges.AllBridgedConstraints{Float64}}}, ::MathOptInterface.Utilities.UniversalFallback{JuMP._MOIModel{Float64}}) at ./none:0",
      " [11] attach_optimizer(::MathOptInterface.Utilities.CachingOptimizer{MathOptInterface.AbstractOptimizer,MathOptInterface.Utilities.UniversalFallback{JuMP._MOIModel{Float64}}}) at /home/guilhermebodin/.julia/packages/MathOptInterface/C3lip/src/Utilities/cachingoptimizer.jl:130",
      " [12] optimize!(::MathOptInterface.Utilities.CachingOptimizer{MathOptInterface.AbstractOptimizer,MathOptInterface.Utilities.UniversalFallback{JuMP._MOIModel{Float64}}}) at /home/guilhermebodin/.julia/packages/MathOptInterface/C3lip/src/Utilities/cachingoptimizer.jl:166",
      " [13] #optimize!#77(::Bool, ::Bool, ::Function, ::Model, ::Nothing) at /home/guilhermebodin/.julia/packages/JuMP/jnmGG/src/optimizer_interface.jl:132",
      " [14] optimize! at /home/guilhermebodin/.julia/packages/JuMP/jnmGG/src/optimizer_interface.jl:105 [inlined] (repeats 2 times)",
      " [15] top-level scope at In[26]:1"
     ]
    }
   ],
   "source": [
    "optimize!(model2)"
   ]
  },
  {
   "cell_type": "code",
   "execution_count": 27,
   "metadata": {},
   "outputs": [
    {
     "ename": "NoOptimizer",
     "evalue": "NoOptimizer()",
     "output_type": "error",
     "traceback": [
      "NoOptimizer()",
      "",
      "Stacktrace:",
      " [1] _moi_get_result(::MathOptInterface.Utilities.CachingOptimizer{MathOptInterface.AbstractOptimizer,MathOptInterface.Utilities.UniversalFallback{JuMP._MOIModel{Float64}}}, ::MathOptInterface.VariablePrimal, ::Vararg{Any,N} where N) at /home/guilhermebodin/.julia/packages/JuMP/jnmGG/src/JuMP.jl:580",
      " [2] get(::Model, ::MathOptInterface.VariablePrimal, ::VariableRef) at /home/guilhermebodin/.julia/packages/JuMP/jnmGG/src/JuMP.jl:606",
      " [3] value(::VariableRef) at /home/guilhermebodin/.julia/packages/JuMP/jnmGG/src/variables.jl:721",
      " [4] _broadcast_getindex_evalf at ./broadcast.jl:582 [inlined]",
      " [5] _broadcast_getindex at ./broadcast.jl:555 [inlined]",
      " [6] getindex at ./broadcast.jl:515 [inlined]",
      " [7] copy at ./broadcast.jl:766 [inlined]",
      " [8] materialize(::Base.Broadcast.Broadcasted{Base.Broadcast.DefaultArrayStyle{0},Nothing,typeof(value),Tuple{Base.RefValue{VariableRef}}}) at ./broadcast.jl:756",
      " [9] top-level scope at In[27]:1"
     ]
    }
   ],
   "source": [
    "x_val = JuMP.value.(x)\n",
    "y_val = JuMP.value.(y)\n",
    "objval = JuMP.objective_value(model2)\n",
    "objval = JuMP.termination_status(model2)\n",
    "\n",
    "@show x_val\n",
    "@show y_val\n",
    "@show objval"
   ]
  }
 ],
 "metadata": {
  "@webio": {
   "lastCommId": "b35e7d8e81c94a0883002a80e6b969b2",
   "lastKernelId": "37a095c1-3937-4b2e-8b37-9992db886bb3"
  },
  "kernelspec": {
   "display_name": "Julia 1.0.3",
   "language": "julia",
   "name": "julia-1.0"
  },
  "language_info": {
   "file_extension": ".jl",
   "mimetype": "application/julia",
   "name": "julia",
   "version": "1.0.3"
  }
 },
 "nbformat": 4,
 "nbformat_minor": 2
}
