{
 "cells": [
  {
   "cell_type": "markdown",
   "metadata": {},
   "source": [
    "# Introduction to stochastic optimization\n",
    "\n",
    "The content in this class is based on the book \"Uma Introducção à Otimização sob Incerteza\" by Humberto Bortolossi and Bernardo Pagnoncelli.\n",
    "\n",
    "## About stochastic optimization\n",
    "    \n",
    "Most real-life problems bring uncertainties in themselves: they are inherent in virtually all systems related to actuarial science, economics, meteorology, demography, ecology, and so on. Nowadays, problems involving interactions between man, nature and technology are subject to rapid change, which increases uncertainty. Each new technological revolution brings new challenges to the knowledge established up to then. Even in the deterministic context, there are systems that are complex, which do not allow precise measurement of their parameters.\n",
    "   \n",
    "The area of stochastic optimization (also known as optimization under uncertainty) studies methods to address such situations: they incorporate uncertainties in modeling through the inclusion of random variables of known probability distributions. The aim is to find solutions that are acceptable for all possible realizations of the modeled random variables.\n",
    "   \n",
    "## The farmer problem\n",
    "\n",
    "### Deterministic model\n",
    "\n",
    "John is a farmer with $500$ Hectares (ha) of land available for cultivation. Remember that $500 ha$ equals $5000000 m^2$. He is a specialist in three crops: wheat, maize, and sugarcane. During the winter, he has to decide how much land will be dedicated to each of the three cultures. The figure below shows two possible land divisions.\n",
    "\n",
    "![Figure 1](Figure1.png)\n",
    "\n",
    "In addition to the size of its property, John has other constraints to consider. He is also the owner of livestock, which needs to be fed. Their livestock needs at least 200 tons (T) of wheat and 240 tons of corn for the ration.  Aside from the wheat and corn produced on his land, he can buy these products from other producers in the local market. Their excess production can be sold to wholesalers, for the price and much smaller because of the profit margin of these traders.\n",
    "\n",
    "Sugar cane is a crop exclusively for profit: all its production is sold to wholesalers at 36 dollars per tonne (dollars/T). However, the government imposes a production quota of 6,000 T: any quantity produced above this value should be sold for only 10 dollars/T.\n",
    "\n",
    "Based on information from previous years, John knows that the average yield of his crops is 2.5, 3.0 and 20 tons per hectare (T/ha). In addition, there is a specific production cost of each crop, which is given in  dollars/ha. The complete model data are shown in the table below:\n",
    "\n",
    "|                                .  | wheat | corn |      sugarcane     |\n",
    "|:---------------------------------:|:-----:|:----:|:------------------:|\n",
    "|            yield (T/ha)           |  2.5  |  3.0 |         20         |\n",
    "|   production costs (dollars/ha)   |  150  |  230 |         260        |\n",
    "|     selling price (dollars/T)     |  170  |  150 | 36 ($\\leq$ 6000 T) |\n",
    "|                        -          |   -   |   -  |    10 (> 6000 T)   |\n",
    "|      buying price (dollars/T)     |  238  |  210 |         -          |\n",
    "| minimum requirement for livestock |  200  |  240 |         -          |\n",
    "| total available land: 500 ha|\n",
    "\n",
    "\n",
    "Remember that the total available land is 500 ha.\n",
    "\n",
    "To help John decide how to divide his lands in order to maximize his profits, let's formulate a linear optimization problem that describes this situation. Define:\n",
    "\n",
    "|variable|Meaning                                 |\n",
    "|--------|:---------------------------------------|\n",
    "| $x_1$  | hectares dedicated to wheat            |\n",
    "| $x_2$  | hectares dedicated to corn             |\n",
    "| $x_3$  | hectares dedicated to sugarcane        |\n",
    "| $w_1$  | tonnes of wheat sold                   |\n",
    "| $y_1$  | tonnes of wheat bought                 |\n",
    "| $w_2$  | tonnes of corn sold                    |\n",
    "| $y_2$  | tonnes of corn bought                  |\n",
    "| $w_3$  | tonnes of sugarcane sold at 36 dollars |\n",
    "| $w_4$  | tonnes of sugarcane sold at 10 dollars |\n",
    "\n",
    "With this variables we can write the linear programming problem as \n",
    "\n",
    "$$\n",
    "\\begin{align}\n",
    "%\n",
    "\\max  170w_1 +150w_2 +36w_3 +10w_4 -150x_1 - 230 x_2 -&260 x_3 -\n",
    "238y_1 -210y_2\\\\\n",
    "%\n",
    "\\mbox{s.t.: } & \\nonumber \\\\\n",
    "x_1 + x_2 + x_3 &\\leq 500,\\\\\n",
    "2.5x_1 + y_1 - w_1 &\\geq 200, \\\\\n",
    "3x_2 + y_2 - w_2 &\\geq 240, \\\\\n",
    "w_3 + w_4 &\\leq 20 x_3, \\\\\n",
    "w_3 &\\leq 6000, \\\\\n",
    "x_1, x_2, x_3, y_1, y_2, w_1, w_2, w_3, w_4  &\\geq 0\\\\\n",
    "%\n",
    "\\end{align}\n",
    "$$\n",
    "\n",
    "And good news, we can solve this with JuMP. Make sure the `Project.toml` and `Manifest.toml` files are in the same repository as this notebook so we can intall all packages automatically."
   ]
  },
  {
   "cell_type": "code",
   "execution_count": 1,
   "metadata": {},
   "outputs": [
    {
     "name": "stdout",
     "output_type": "stream",
     "text": [
      "\u001b[32m\u001b[1m  Updating\u001b[22m\u001b[39m registry at `~/.julia/registries/General`\n",
      "\u001b[32m\u001b[1m  Updating\u001b[22m\u001b[39m git-repo `https://github.com/JuliaRegistries/General.git`\n",
      "\u001b[?25l\u001b[2K\u001b[?25hExcellent! Everything is good to go!\n"
     ]
    }
   ],
   "source": [
    "import Pkg\n",
    "Pkg.activate(@__DIR__)\n",
    "Pkg.instantiate()\n",
    "println(\"Excellent! Everything is good to go!\")"
   ]
  },
  {
   "cell_type": "code",
   "execution_count": 2,
   "metadata": {},
   "outputs": [
    {
     "name": "stderr",
     "output_type": "stream",
     "text": [
      "┌ Info: Precompiling JuMP [4076af6c-e467-56ae-b986-b466b2749572]\n",
      "└ @ Base loading.jl:1192\n",
      "┌ Info: Precompiling GLPK [60bf3e95-4087-53dc-ae20-288a0d20c6a6]\n",
      "└ @ Base loading.jl:1192\n"
     ]
    },
    {
     "data": {
      "text/latex": [
       "$$ \\begin{alignat*}{1}\\max\\quad & 170 w_{1} + 150 w_{2} + 36 w_{3} + 10 w_{4} - 150 x_{1} - 230 x_{2} - 260 x_{3} - 238 y_{1} - 210 y_{2}\\\\\n",
       "\\text{Subject to} \\quad & x_{1} \\geq 0.0\\\\\n",
       " & x_{2} \\geq 0.0\\\\\n",
       " & x_{3} \\geq 0.0\\\\\n",
       " & y_{1} \\geq 0.0\\\\\n",
       " & y_{2} \\geq 0.0\\\\\n",
       " & w_{1} \\geq 0.0\\\\\n",
       " & w_{2} \\geq 0.0\\\\\n",
       " & w_{3} \\geq 0.0\\\\\n",
       " & w_{4} \\geq 0.0\\\\\n",
       " & 2.5 x_{1} + y_{1} - w_{1} \\geq 200.0\\\\\n",
       " & 3 x_{2} + y_{2} - w_{2} \\geq 240.0\\\\\n",
       " & x_{1} + x_{2} + x_{3} \\leq 500.0\\\\\n",
       " & w_{3} + w_{4} - 20 x_{3} \\leq 0.0\\\\\n",
       " & w_{3} \\leq 6000.0\\\\\n",
       "\\end{alignat*}\n",
       " $$"
      ],
      "text/plain": [
       "A JuMP Model\n",
       "Maximization problem with:\n",
       "Variables: 9\n",
       "Objective function type: GenericAffExpr{Float64,VariableRef}\n",
       "`VariableRef`-in-`MathOptInterface.GreaterThan{Float64}`: 9 constraints\n",
       "`GenericAffExpr{Float64,VariableRef}`-in-`MathOptInterface.GreaterThan{Float64}`: 2 constraints\n",
       "`GenericAffExpr{Float64,VariableRef}`-in-`MathOptInterface.LessThan{Float64}`: 3 constraints\n",
       "Model mode: AUTOMATIC\n",
       "CachingOptimizer state: EMPTY_OPTIMIZER\n",
       "Solver name: GLPK\n",
       "Names registered in the model: w, x, y"
      ]
     },
     "execution_count": 2,
     "metadata": {},
     "output_type": "execute_result"
    }
   ],
   "source": [
    "using JuMP, GLPK\n",
    "\n",
    "model = Model(with_optimizer(GLPK.Optimizer))\n",
    "\n",
    "@variable(model, x[i in 1:3] >= 0)\n",
    "@variable(model, y[i in 1:2] >= 0)\n",
    "@variable(model, w[i in 1:4] >= 0)\n",
    "\n",
    "@constraints(model, begin\n",
    "    x[1] + x[2] + x[3] <= 500\n",
    "    2.5*x[1] + y[1] - w[1] >= 200\n",
    "    3*x[2] + y[2] - w[2] >= 240\n",
    "    w[3] + w[4] <= 20*x[3]\n",
    "    w[3] <= 6000\n",
    "end)\n",
    "\n",
    "@objective(model, Max, 170*w[1] + 150*w[2] + 36*w[3] + 10*w[4] - 150*x[1] - 230*x[2] - 260*x[3] - 238*y[1] - 210*y[2])\n",
    "model"
   ]
  },
  {
   "cell_type": "code",
   "execution_count": 3,
   "metadata": {},
   "outputs": [
    {
     "name": "stdout",
     "output_type": "stream",
     "text": [
      "Dedicated area [120.0, 80.0, 300.0]\n",
      "Total produced [300.0, 240.0, 6000.0]\n",
      "Total sold [100.0, 0.0, 6000.0, 0.0]\n",
      "Total bought [0.0, 0.0]\n",
      "Profit: 118600.0\n"
     ]
    }
   ],
   "source": [
    "optimize!(model)\n",
    "println(\"Dedicated area $(JuMP.value.(x))\")\n",
    "println(\"Total produced $(JuMP.value.(x).*[2.5; 3.0; 20])\")\n",
    "println(\"Total sold $(JuMP.value.(w))\")\n",
    "println(\"Total bought $(JuMP.value.(y))\")\n",
    "println(\"Profit: $(JuMP.objective_value(model))\")"
   ]
  },
  {
   "cell_type": "markdown",
   "metadata": {},
   "source": [
    "The solution can be summarized in the table below\n",
    "\n",
    "|      .       | wheat | corn | sugarcane      |\n",
    "|--------------|-------|------|----------------|\n",
    "| Area (ha)    | 120   | 80   | 300            |\n",
    "| produced (T) | 300   | 240  | 6000           |\n",
    "| sold (T)     | 100   | -    | 6000           |\n",
    "| bought (T)   | -     | -    | -              |\n",
    "| Profit: 118 600 dollars |\n",
    "\n",
    "John is happy for a moment. The same night John found his optimal land division he became suspicious of the solution. What if his experience in relation to the average income of cultures is not accurate as he thinks? What if the year in question has a particularly unfavorable climate and its crop yields less than expected? In those cases would the same land division the best possible?\n",
    "\n",
    "Let us suppose that in a particularly favorable year yields are 20% higher than the average yields suggested by John. The data for the problem becomes\n",
    "\n",
    "|                                .  | wheat | corn |      sugarcane     |\n",
    "|:---------------------------------:|:-----:|:----:|:------------------:|\n",
    "|            yield (T/ha)           |  3    |  3.6 |         24         |\n",
    "|   production costs (dollars/ha)   |  150  |  230 |         260        |\n",
    "|     selling price (dollars/T)     |  170  |  150 | 36 ($\\leq$ 6000 T) |\n",
    "|                        -          |   -   |   -  |    10 (> 6000 T)   |\n",
    "|      buying price (dollars/T)     |  238  |  210 |         -          |\n",
    "| minimum requirement for livestock |  200  |  240 |         -          |\n",
    "| total available land: 500 ha|\n",
    "\n",
    "Try solving this problem yourself! The answers should match with the following table\n",
    "\n",
    "|      .       | wheat | corn | sugarcane      |\n",
    "|--------------|-------|------|----------------|\n",
    "| Area (ha)    | 183.33| 66.67| 250            |\n",
    "| produced (T) | 550   | 240  | 6000           |\n",
    "| sold (T)     | 350   | -    | 6000           |\n",
    "| bought (T)   | -     | -    | -              |\n",
    "| Profit: 167 666 dollars |"
   ]
  },
  {
   "cell_type": "code",
   "execution_count": 4,
   "metadata": {},
   "outputs": [
    {
     "data": {
      "text/latex": [
       "$$ \\begin{alignat*}{1}\\max\\quad & 170 w_{1} + 150 w_{2} + 36 w_{3} + 10 w_{4} - 150 x_{1} - 230 x_{2} - 260 x_{3} - 238 y_{1} - 210 y_{2}\\\\\n",
       "\\text{Subject to} \\quad & x_{1} \\geq 0.0\\\\\n",
       " & x_{2} \\geq 0.0\\\\\n",
       " & x_{3} \\geq 0.0\\\\\n",
       " & y_{1} \\geq 0.0\\\\\n",
       " & y_{2} \\geq 0.0\\\\\n",
       " & w_{1} \\geq 0.0\\\\\n",
       " & w_{2} \\geq 0.0\\\\\n",
       " & w_{3} \\geq 0.0\\\\\n",
       " & w_{4} \\geq 0.0\\\\\n",
       "\\end{alignat*}\n",
       " $$"
      ],
      "text/plain": [
       "A JuMP Model\n",
       "Maximization problem with:\n",
       "Variables: 9\n",
       "Objective function type: GenericAffExpr{Float64,VariableRef}\n",
       "`VariableRef`-in-`MathOptInterface.GreaterThan{Float64}`: 9 constraints\n",
       "Model mode: AUTOMATIC\n",
       "CachingOptimizer state: EMPTY_OPTIMIZER\n",
       "Solver name: GLPK\n",
       "Names registered in the model: w, x, y"
      ]
     },
     "execution_count": 4,
     "metadata": {},
     "output_type": "execute_result"
    }
   ],
   "source": [
    "using JuMP, GLPK\n",
    "\n",
    "model = Model(with_optimizer(GLPK.Optimizer))\n",
    "\n",
    "@variable(model, x[i in 1:3] >= 0)\n",
    "@variable(model, y[i in 1:2] >= 0)\n",
    "@variable(model, w[i in 1:4] >= 0)\n",
    "\n",
    "@constraints(model, begin\n",
    "    #TODO\n",
    "end)\n",
    "\n",
    "@objective(model, Max, 170*w[1] + 150*w[2] + 36*w[3] + 10*w[4] - 150*x[1] - 230*x[2] - 260*x[3] - 238*y[1] - 210*y[2])\n",
    "model"
   ]
  },
  {
   "cell_type": "code",
   "execution_count": 5,
   "metadata": {},
   "outputs": [
    {
     "name": "stdout",
     "output_type": "stream",
     "text": [
      "Dedicated area [NaN, NaN, NaN]\n",
      "Total produced [NaN, NaN, NaN]\n",
      "Total sold [1.0, NaN, NaN, NaN]\n",
      "Total bought [NaN, NaN]\n",
      "Profit: 0.0\n"
     ]
    }
   ],
   "source": [
    "optimize!(model)\n",
    "println(\"Dedicated area $(JuMP.value.(x))\")\n",
    "println(\"Total produced $(JuMP.value.(x).*[3.0; 3.6; 24])\")\n",
    "println(\"Total sold $(JuMP.value.(w))\")\n",
    "println(\"Total bought $(JuMP.value.(y))\")\n",
    "println(\"Profit: $(JuMP.objective_value(model))\")"
   ]
  },
  {
   "cell_type": "markdown",
   "metadata": {},
   "source": [
    "Let us suppose that in a particularly favorable year yields are 20% lower than the average yields suggested by John. The data for the problem becomes\n",
    "\n",
    "|                                .  | wheat | corn |      sugarcane     |\n",
    "|:---------------------------------:|:-----:|:----:|:------------------:|\n",
    "|            yield (T/ha)           |  2    |  2.4 |         16         |\n",
    "|   production costs (dollars/ha)   |  150  |  230 |         260        |\n",
    "|     selling price (dollars/T)     |  170  |  150 | 36 ($\\leq$ 6000 T) |\n",
    "|                        -          |   -   |   -  |    10 (> 6000 T)   |\n",
    "|      buying price (dollars/T)     |  238  |  210 |         -          |\n",
    "| minimum requirement for livestock |  200  |  240 |         -          |\n",
    "| total available land: 500 ha|\n",
    "\n",
    "Try solving this problem yourself! The answers should match with the following table\n",
    "\n",
    "|      .       | wheat | corn | sugarcane      |\n",
    "|--------------|-------|------|----------------|\n",
    "| Area (ha)    | 100   | 25   | 375            |\n",
    "| produced (T) | 200   | 60   | 6000           |\n",
    "| sold (T)     | -     | -    | 6000           |\n",
    "| bought (T)   | -     | 180  | -              |\n",
    "| Profit: 59 950 dollars |"
   ]
  },
  {
   "cell_type": "code",
   "execution_count": 6,
   "metadata": {},
   "outputs": [
    {
     "data": {
      "text/latex": [
       "$$ \\begin{alignat*}{1}\\max\\quad & 170 w_{1} + 150 w_{2} + 36 w_{3} + 10 w_{4} - 150 x_{1} - 230 x_{2} - 260 x_{3} - 238 y_{1} - 210 y_{2}\\\\\n",
       "\\text{Subject to} \\quad & x_{1} \\geq 0.0\\\\\n",
       " & x_{2} \\geq 0.0\\\\\n",
       " & x_{3} \\geq 0.0\\\\\n",
       " & y_{1} \\geq 0.0\\\\\n",
       " & y_{2} \\geq 0.0\\\\\n",
       " & w_{1} \\geq 0.0\\\\\n",
       " & w_{2} \\geq 0.0\\\\\n",
       " & w_{3} \\geq 0.0\\\\\n",
       " & w_{4} \\geq 0.0\\\\\n",
       "\\end{alignat*}\n",
       " $$"
      ],
      "text/plain": [
       "A JuMP Model\n",
       "Maximization problem with:\n",
       "Variables: 9\n",
       "Objective function type: GenericAffExpr{Float64,VariableRef}\n",
       "`VariableRef`-in-`MathOptInterface.GreaterThan{Float64}`: 9 constraints\n",
       "Model mode: AUTOMATIC\n",
       "CachingOptimizer state: EMPTY_OPTIMIZER\n",
       "Solver name: GLPK\n",
       "Names registered in the model: w, x, y"
      ]
     },
     "execution_count": 6,
     "metadata": {},
     "output_type": "execute_result"
    }
   ],
   "source": [
    "using JuMP, GLPK\n",
    "\n",
    "model = Model(with_optimizer(GLPK.Optimizer))\n",
    "\n",
    "@variable(model, x[i in 1:3] >= 0)\n",
    "@variable(model, y[i in 1:2] >= 0)\n",
    "@variable(model, w[i in 1:4] >= 0)\n",
    "\n",
    "@constraints(model, begin\n",
    "    #TODO\n",
    "end)\n",
    "\n",
    "@objective(model, Max, 170*w[1] + 150*w[2] + 36*w[3] + 10*w[4] - 150*x[1] - 230*x[2] - 260*x[3] - 238*y[1] - 210*y[2])\n",
    "model"
   ]
  },
  {
   "cell_type": "code",
   "execution_count": 7,
   "metadata": {},
   "outputs": [
    {
     "name": "stdout",
     "output_type": "stream",
     "text": [
      "Dedicated area [NaN, NaN, NaN]\n",
      "Total produced [NaN, NaN, NaN]\n",
      "Total sold [1.0, NaN, NaN, NaN]\n",
      "Total bought [NaN, NaN]\n",
      "Profit: 0.0\n"
     ]
    }
   ],
   "source": [
    "optimize!(model)\n",
    "println(\"Dedicated area $(JuMP.value.(x))\")\n",
    "println(\"Total produced $(JuMP.value.(x).*[2.0; 2.4; 16])\")\n",
    "println(\"Total sold $(JuMP.value.(w))\")\n",
    "println(\"Total bought $(JuMP.value.(y))\")\n",
    "println(\"Profit: $(JuMP.objective_value(model))\")"
   ]
  },
  {
   "cell_type": "markdown",
   "metadata": {},
   "source": [
    "These results are alarming for John's finances: 20% changes in crop yields relative to average income make their profit range from 59,950 dollars to 167,667 dollars! Thinking about sugar cane, John has the following dilemma: If he reserves a large area for this crop and yields are above average, he will have to sell a quantity of the product to an unfavorable price because of the quota. On the other hand, if he reserves a very small area and the yields are below the average, then he will lose the opportunity to sell cane at a favorable price.\n",
    "\n",
    "### Stochastic model\n",
    "\n",
    "John concludes that there is no solution that is the best for all cases. However, he wonders if there is a solution that is satisfactory for all types of possible yields.\n",
    "\n",
    "Let's introduce a bit of nomenclature: the scenarios 20% above average, on average and 20% below average will be indexed by $s = 1,2,3$ respectively. The variables y and w have the same meaning as before, but will be indexed by $w_{is}, i = 1,2,3,4, s = 1,2,3$ and $y_{js}, j = 1, 2, s = 1,2, 3$. For example, $y_{23}$ represents the quantity of corn sold in the case of prices below the average. Let's assume that the scenarios have the same probability, that is, that each occurs with probability 1/3. Furthermore, assuming that John wants to maximize his long-term gains, it is reasonable to assume that he seeks a solution that maximizes his expected profit.\n",
    "\n",
    "The problem becomes:\n",
    "\n",
    "$$\n",
    "\\begin{align}\n",
    "%\n",
    "\\max  -150x_1 - 230 x_2 -260x_3&\\\\\n",
    "    +\\frac{1}{3}(170w_{11} +150w_{21} +36w_{31} +10w_{41} &-238y_{11} -210y_{21})\\\\\n",
    "    +\\frac{1}{3}(170w_{12} +150w_{22} +36w_{32} +10w_{42} &-238y_{12} -210y_{22})\\\\\n",
    "    +\\frac{1}{3}(170w_{13} +150w_{23} +36w_{33} +10w_{43} &-238y_{13} -210y_{23})\\\\\n",
    "%\n",
    "\\mbox{s.t.: } \\nonumber &\\\\\n",
    "x_1 + x_2 + x_3 &\\leq 500,\\\\\n",
    "\\\\\n",
    "s = 1\\\\\n",
    "3x_1 + y_{11} - w_{11} &\\geq 200, \\\\\n",
    "3.6x_2 + y_{21} - w_{21} &\\geq 240, \\\\\n",
    "w_{31} + w_{41} &\\leq 24 x_3, \\\\\n",
    "w_{31} &\\leq 6000, \\\\\n",
    "s = 2\\\\\n",
    "2.5x_1 + y_{12} - w_{12} &\\geq 200, \\\\\n",
    "3x_2 + y_{22} - w_{22} &\\geq 240, \\\\\n",
    "w_{32} + w_{42} &\\leq 20 x_3, \\\\\n",
    "w_{32} &\\leq 6000, \\\\\n",
    "s = 3\\\\\n",
    "2x_1 + y_{13} - w_{13} &\\geq 200, \\\\\n",
    "2.4x_2 + y_{23} - w_{23} &\\geq 240, \\\\\n",
    "w_{33} + w_{43} &\\leq 16 x_3, \\\\\n",
    "w_{33} &\\leq 6000, \\\\\n",
    "x_1, x_2, x_3, y_{11}, y_{21}, y_{12}, y_{22}, y_{13}, y_{23},\\\\\n",
    "w_{11}, w_{21}, w_{31}, w_{41}, w_{12}, w_{22}, w_{32}, w_{42}, w_{13}, w_{23}, w_{33}, w_{43},    &\\geq 0\\\\\n",
    "%\n",
    "\\end{align}\n",
    "$$\n",
    "\n",
    "\n",
    "This is the so-called extensive form of a stochastic optimization problem. This denomination comes from the fact that all the variables that depend on scenarios are explicitly described in the model. Variables $x$ are called first-stage variables, since their value has to be defined before the climate is known and, consequently, the yield of the crops. Variables $y$ and $w$ are the second-stage variables. These are the variables that are chosen after the knowledge of the yield of the crops. They serve to correct a possible situation of a deficit in livestock feeding needs resulting from the choice of the first stage. The farmer's problem is an example of a two-stage resource problem.\n",
    "\n",
    "So now it is yout turn to help John decide the division of the land! The profit should be 108 390 dollars!"
   ]
  },
  {
   "cell_type": "code",
   "execution_count": 8,
   "metadata": {},
   "outputs": [
    {
     "data": {
      "text/latex": [
       "$$ \\begin{alignat*}{1}\\text{feasibility}\\\\\n",
       "\\text{Subject to} \\quad\\end{alignat*}\n",
       " $$"
      ],
      "text/plain": [
       "A JuMP Model\n",
       "Feasibility problem with:\n",
       "Variables: 0\n",
       "Model mode: AUTOMATIC\n",
       "CachingOptimizer state: EMPTY_OPTIMIZER\n",
       "Solver name: GLPK"
      ]
     },
     "execution_count": 8,
     "metadata": {},
     "output_type": "execute_result"
    }
   ],
   "source": [
    "using JuMP, GLPK\n",
    "\n",
    "model = Model(with_optimizer(GLPK.Optimizer))\n",
    "# Variables\n",
    "\n",
    "# Constraints\n",
    "\n",
    "# Objetive\n",
    "model"
   ]
  },
  {
   "cell_type": "code",
   "execution_count": 9,
   "metadata": {},
   "outputs": [
    {
     "name": "stdout",
     "output_type": "stream",
     "text": [
      "glp_add_cols: ncs = 0; invalid number of columns\n",
      "Error detected in file api/prob1.c at line 362\n"
     ]
    },
    {
     "ename": "GLPKFatalError",
     "evalue": "GLPKFatalError(\"GLPK call failed. All GLPK objects you defined so far are now invalidated.\")",
     "output_type": "error",
     "traceback": [
      "GLPKFatalError(\"GLPK call failed. All GLPK objects you defined so far are now invalidated.\")",
      "",
      "Stacktrace:",
      " [1] _err_hook(::Ptr{Nothing}) at /Users/guilhermebodin/.julia/packages/GLPK/rw631/src/GLPK.jl:222",
      " [2] add_cols(::Prob, ::Int64) at /Users/guilhermebodin/.julia/packages/GLPK/rw631/src/GLPK.jl:228",
      " [3] add_variables!(::GLPK.Optimizer, ::Int64) at /Users/guilhermebodin/.julia/packages/GLPK/rw631/src/MOIWrapper.jl:515",
      " [4] add_variables(::GLPK.Optimizer, ::Int64) at /Users/guilhermebodin/.julia/packages/LinQuadOptInterface/ZMx9f/src/variables.jl:122",
      " [5] add_variables at /Users/guilhermebodin/.julia/packages/MathOptInterface/C3lip/src/Bridges/bridgeoptimizer.jl:363 [inlined]",
      " [6] default_copy_to(::MathOptInterface.Bridges.LazyBridgeOptimizer{GLPK.Optimizer,MathOptInterface.Utilities.UniversalFallback{MathOptInterface.Bridges.AllBridgedConstraints{Float64}}}, ::MathOptInterface.Utilities.UniversalFallback{JuMP._MOIModel{Float64}}, ::Bool) at /Users/guilhermebodin/.julia/packages/MathOptInterface/C3lip/src/Utilities/copy.jl:186",
      " [7] #automatic_copy_to#61 at /Users/guilhermebodin/.julia/packages/MathOptInterface/C3lip/src/Utilities/copy.jl:15 [inlined]",
      " [8] #automatic_copy_to at ./none:0 [inlined]",
      " [9] #copy_to#1 at /Users/guilhermebodin/.julia/packages/MathOptInterface/C3lip/src/Bridges/bridgeoptimizer.jl:91 [inlined]",
      " [10] (::getfield(MathOptInterface, Symbol(\"#kw##copy_to\")))(::NamedTuple{(:copy_names,),Tuple{Bool}}, ::typeof(MathOptInterface.copy_to), ::MathOptInterface.Bridges.LazyBridgeOptimizer{GLPK.Optimizer,MathOptInterface.Utilities.UniversalFallback{MathOptInterface.Bridges.AllBridgedConstraints{Float64}}}, ::MathOptInterface.Utilities.UniversalFallback{JuMP._MOIModel{Float64}}) at ./none:0",
      " [11] attach_optimizer(::MathOptInterface.Utilities.CachingOptimizer{MathOptInterface.AbstractOptimizer,MathOptInterface.Utilities.UniversalFallback{JuMP._MOIModel{Float64}}}) at /Users/guilhermebodin/.julia/packages/MathOptInterface/C3lip/src/Utilities/cachingoptimizer.jl:130",
      " [12] optimize!(::MathOptInterface.Utilities.CachingOptimizer{MathOptInterface.AbstractOptimizer,MathOptInterface.Utilities.UniversalFallback{JuMP._MOIModel{Float64}}}) at /Users/guilhermebodin/.julia/packages/MathOptInterface/C3lip/src/Utilities/cachingoptimizer.jl:166",
      " [13] #optimize!#77(::Bool, ::Bool, ::Function, ::Model, ::Nothing) at /Users/guilhermebodin/.julia/packages/JuMP/jnmGG/src/optimizer_interface.jl:132",
      " [14] optimize! at /Users/guilhermebodin/.julia/packages/JuMP/jnmGG/src/optimizer_interface.jl:105 [inlined] (repeats 2 times)",
      " [15] top-level scope at In[9]:1"
     ]
    }
   ],
   "source": [
    "optimize!(model)\n",
    "println(\"Dedicated area $(JuMP.value.(x))\")\n",
    "println(\"Total sold $(JuMP.value.(w))\")\n",
    "println(\"Total bought $(JuMP.value.(y))\")\n",
    "println(\"Profit: $(JuMP.objective_value(model))\")"
   ]
  },
  {
   "cell_type": "markdown",
   "metadata": {},
   "source": [
    "Now that you have the solution for the stochastic formulation you can evaluate some metrics to evaluate your stochastic model\n",
    "\n",
    "### Expected Value of Perfect Information (EPVI)\n",
    "Imagine that John has a crystal ball and can predict the weather in the future. Under this hypothesis, he does not need the statistical model whenever he foresees an income 20% below the average he chooses the solution given for the model that considers this scenario as unique. If yields are average or above the average, he can adapt the model. \n",
    "If we expect a large number of years, then the average income of John under perfect information (WS) will be:\n",
    "\n",
    "$$\n",
    "WS = \\frac{59 950$ + 118 600$ + 167 666$}{3} = 115 405 $\n",
    "$$\n",
    "\n",
    "Note that we are assuming that the different scenarios occur at random with probability 1/3 each. This average income corresponds to the situation under perfect information, that is, to the case where John knows precisely what will happen in the future.\n",
    "\n",
    "Unfortunately, the meteorologists and we know that this hypothesis is not realistic. Thus, over a period of, say, 20 years, the best John has to do and use the stock solution given by the stochastic model, obtaining an expected profit of 108 390 dollars. The difference between this value and profit in the case under perfect information $WS$ is the expected value of perfect information or EVPI:\n",
    "\n",
    "$$\n",
    "EVPI = 115 405 $ - 118 390 $ = 7 015$\n",
    "$$\n",
    "\n",
    "### Value of Stochastic Solution (VSS)\n",
    "\n",
    "\n",
    "The VSS measures the gain in considering the statistical model rather than just basing the decision on average incomes. Think that John is a stubborn farmer: even though he knows that possible income variances can occur, he insists on dividing his land according to the average income situation (our deterministic model). The profit obtained from this policy is called the Expected Value Solution or EEV\n",
    "\n",
    "How do you calculate it? It is simple: fix the distribution of land in the case of medium incomes, that is, calculate the solution of the first deterministic model in the $y$ and $w$ variables, taking $x_1 = 120, x_2 = 80$ and $x_3 = 300$ and the yields equal to 3.0 3.6 and 24 (for s = 1) and then 2.0 2.4 and 16 (for s = 3). Solutions will be at 55 120 dollars and 148 000 dollars respectively. Recalling that the solution is 118600 dollars in the case of average income and 108 390 dollars in the case of the stochastic model, we have\n",
    "\n",
    "$$\n",
    "EEV = \\frac{55 120$ + 118 600$ + 148 000$}{3} = 107240 $ \\\\\n",
    "VSS = 108 390 - 107 240 $ = 1 150$\n",
    "$$\n",
    "\n",
    "### A final comment\n",
    "\n",
    "The concepts of EVPI and VSS are important because they quantify the value of the information and the gain in considering the stochastic formulation. In the EVPI case, it tells you how much it is worth to pay for perfect information. The VSS gives us access to how much we are gaining in considering the stochastic model rather than merely assuming that crop yields are always average."
   ]
  }
 ],
 "metadata": {
  "kernelspec": {
   "display_name": "Julia 1.0.3",
   "language": "julia",
   "name": "julia-1.0"
  },
  "language_info": {
   "file_extension": ".jl",
   "mimetype": "application/julia",
   "name": "julia",
   "version": "1.0.3"
  }
 },
 "nbformat": 4,
 "nbformat_minor": 2
}
