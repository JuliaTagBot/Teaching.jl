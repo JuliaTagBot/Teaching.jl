{
 "cells": [
  {
   "cell_type": "markdown",
   "metadata": {},
   "source": [
    "# Introduction to stochastic optimization\n",
    "\n",
    "The content in this class is based on the book \"Uma Introducção à Otimização sob Incerteza\" by Humberto Bortolossi and Bernardo Pagnoncelli.\n",
    "\n",
    "## About stochastic optimization\n",
    "    \n",
    "Most real-life problems bring uncertainties in themselves: they are inherent in virtually all systems related to actuarial science, economics, meteorology, demography, ecology, and so on. Nowadays, problems involving interactions between man, nature and technology are subject to rapid change, which increases uncertainty. Each new technological revolution brings new challenges to the knowledge established up to then. Even in the deterministic context, there are systems that are complex, which do not allow precise measurement of their parameters.\n",
    "   \n",
    "The area of stochastic optimization (also known as optimization under uncertainty) studies methods to address such situations: they incorporate uncertainties in modeling through the inclusion of random variables of known probability distributions. The aim is to find solutions that are acceptable for all possible realizations of the modeled random variables.\n",
    "   \n",
    "## The farmer problem\n",
    "\n",
    "John is a farmer with $500$ Hectares (ha) of land available for cultivation. Remember that $500 ha$ equals $5000000 m^2$. He is a specialist in three crops: wheat, maize, and sugarcane. During the winter, he has to decide how much land will be dedicated to each of the three cultures. The figure below shows two possible land divisions.\n",
    "\n",
    "![Figure 1](Figure1.png)\n",
    "\n",
    "In addition to the size of its property, John has other constraints to consider. He is also the owner of livestock, which needs to be fed. Their livestock needs at least 200 tons (T) of wheat and 240 tons of corn for the ration.  Aside from the wheat and corn produced on his land, he can buy these products from other producers in the local market. Their excess production can be sold to wholesalers, for the price and much smaller because of the profit margin of these traders.\n",
    "\n",
    "Sugar cane is a crop exclusively for profit: all its production is sold to wholesalers at 36 dollars per tonne (dollars/T). However, the government imposes a production quota of 6,000 T: any quantity produced above this value should be sold for only 10 dollars/T.\n",
    "\n",
    "Based on information from previous years, John knows that the average yield of his crops is 2.5, 3.0 and 20 tons per hectare (T/ha). In addition, there is a specific production cost of each crop, which is given in  dollars/ha. The complete model data are shown in the table below:\n",
    "\n",
    "|                                -  | wheat | corn |      sugarcane     |\n",
    "|:---------------------------------:|:-----:|:----:|:------------------:|\n",
    "|            yield (T/ha)           |  2.5  |  3.0 |         20         |\n",
    "|   production costs (dollars/ha)   |  150  |  230 |         260        |\n",
    "|     selling price (dollars/T)     |  170  |  150 | 36 ($\\leq$ 6000 T) |\n",
    "|                        -          |   -   |   -  |    10 (> 6000 T)   |\n",
    "|      buying price (dollars/T)     |  238  |  210 |         -          |\n",
    "| minimum requirement for livestock |  200  |  240 |         -          |\n",
    "\n",
    "Remember that the total available land is 500 ha.\n",
    "\n",
    "To help John decide how to divide his lands in order to maximize his profits, let's formulate a linear optimization problem that describes this situation. Define:\n",
    "\n",
    "|variable|Meaning                                 |\n",
    "|--------|:---------------------------------------|\n",
    "| $x_1$  | hectares dedicated to wheat            |\n",
    "| $x_2$  | hectares dedicated to corn             |\n",
    "| $x_3$  | hectares dedicated to sugarcane        |\n",
    "| $w_1$  | tonnes of wheat sold                   |\n",
    "| $y_1$  | tonnes of wheat bought                 |\n",
    "| $w_2$  | tonnes of corn sold                    |\n",
    "| $y_2$  | tonnes of corn bought                  |\n",
    "| $w_3$  | tonnes of sugarcane sold at 36 dollars |\n",
    "| $w_4$  | tonnes of sugarcane sold at 10 dollars |\n",
    "\n",
    "With this variables we can write the linear programming problem as \n",
    "\n",
    "$$\n",
    "\\begin{align}\n",
    "%\n",
    "\\max  170w_1 +150w_2 +36w_3 +10w_4 -150x_1 - 230 x_2 -&260 x_3 -\n",
    "238y_1 -210y_2\\\\\n",
    "%\n",
    "\\mbox{s.t.: } & \\nonumber \\\\\n",
    "x_1 + x_2 + x_3 &\\leq 500,\\\\\n",
    "2.5x_1 + y_1 - w_1 &\\geq 200, \\\\\n",
    "3x_2 + y_2 - w_2 &\\geq 240, \\\\\n",
    "w_3 + w_4 &\\leq 20 x_3, \\\\\n",
    "w_3 &\\leq 6000, \\\\\n",
    "x_1, x_2, x_3, y_1, y_2, w_1, w_2, w_3, w_4  &\\geq 0\\\\\n",
    "%\n",
    "\\end{align}\n",
    "$$\n",
    "\n",
    "And good news, we can solve this with JuMP. Make sure the `Project.toml` and `Manifest.toml` files are in the same repository as this notebook so we can intall all packages automatically."
   ]
  },
  {
   "cell_type": "code",
   "execution_count": 1,
   "metadata": {},
   "outputs": [
    {
     "name": "stdout",
     "output_type": "stream",
     "text": [
      "\u001b[32m\u001b[1m  Updating\u001b[22m\u001b[39m registry at `~/.julia/registries/General`\n",
      "\u001b[32m\u001b[1m  Updating\u001b[22m\u001b[39m git-repo `https://github.com/JuliaRegistries/General.git`\n",
      "\u001b[2K\u001b[?25h[1mFetching:\u001b[22m\u001b[39m [========================================>]  100.0 %.0 %Excellent! Everything is good to go!\n"
     ]
    }
   ],
   "source": [
    "import Pkg\n",
    "Pkg.activate(@__DIR__)\n",
    "Pkg.instantiate()\n",
    "println(\"Excellent! Everything is good to go!\")"
   ]
  },
  {
   "cell_type": "code",
   "execution_count": 10,
   "metadata": {},
   "outputs": [
    {
     "data": {
      "text/latex": [
       "$$ \\begin{alignat*}{1}\\max\\quad & 170 w_{1} + 150 w_{2} + 36 w_{3} + 10 w_{4} - 150 x_{1} - 230 x_{2} - 260 x_{3} - 238 y_{1} - 210 y_{2}\\\\\n",
       "\\text{Subject to} \\quad & x_{1} \\geq 0.0\\\\\n",
       " & x_{2} \\geq 0.0\\\\\n",
       " & x_{3} \\geq 0.0\\\\\n",
       " & y_{1} \\geq 0.0\\\\\n",
       " & y_{2} \\geq 0.0\\\\\n",
       " & w_{1} \\geq 0.0\\\\\n",
       " & w_{2} \\geq 0.0\\\\\n",
       " & w_{3} \\geq 0.0\\\\\n",
       " & w_{4} \\geq 0.0\\\\\n",
       " & 2.5 x_{1} + y_{1} - w_{1} \\geq 200.0\\\\\n",
       " & 3 x_{2} + y_{2} - w_{2} \\geq 240.0\\\\\n",
       " & x_{1} + x_{2} + x_{3} \\leq 500.0\\\\\n",
       " & w_{3} + w_{4} - 20 x_{3} \\leq 0.0\\\\\n",
       " & w_{3} \\leq 6000.0\\\\\n",
       "\\end{alignat*}\n",
       " $$"
      ],
      "text/plain": [
       "A JuMP Model\n",
       "Maximization problem with:\n",
       "Variables: 9\n",
       "Objective function type: GenericAffExpr{Float64,VariableRef}\n",
       "`VariableRef`-in-`MathOptInterface.GreaterThan{Float64}`: 9 constraints\n",
       "`GenericAffExpr{Float64,VariableRef}`-in-`MathOptInterface.GreaterThan{Float64}`: 2 constraints\n",
       "`GenericAffExpr{Float64,VariableRef}`-in-`MathOptInterface.LessThan{Float64}`: 3 constraints\n",
       "Model mode: AUTOMATIC\n",
       "CachingOptimizer state: EMPTY_OPTIMIZER\n",
       "Solver name: GLPK\n",
       "Names registered in the model: w, x, y"
      ]
     },
     "execution_count": 10,
     "metadata": {},
     "output_type": "execute_result"
    }
   ],
   "source": [
    "using JuMP, GLPK\n",
    "\n",
    "model = Model(with_optimizer(GLPK.Optimizer))\n",
    "\n",
    "@variable(model, x[i in 1:3] >= 0)\n",
    "@variable(model, y[i in 1:2] >= 0)\n",
    "@variable(model, w[i in 1:4] >= 0)\n",
    "\n",
    "@constraints(model, begin\n",
    "    x[1] + x[2] + x[3] <= 500\n",
    "    2.5*x[1] + y[1] - w[1] >= 200\n",
    "    3*x[2] + y[2] - w[2] >= 240\n",
    "    w[3] + w[4] <= 20*x[3]\n",
    "    w[3] <= 6000\n",
    "end)\n",
    "\n",
    "@objective(model, Max, 170*w[1] + 150*w[2] + 36*w[3] + 10*w[4] - 150*x[1] - 230*x[2] - 260*x[3] - 238*y[1] - 210*y[2])\n",
    "model"
   ]
  },
  {
   "cell_type": "code",
   "execution_count": 17,
   "metadata": {},
   "outputs": [
    {
     "name": "stdout",
     "output_type": "stream",
     "text": [
      "Dedicated area [120.0, 80.0, 300.0]\n",
      "Total bought [0.0, 0.0]\n",
      "Total sold [100.0, 0.0, 6000.0, 0.0]\n",
      "Profit: 118600.0\n"
     ]
    }
   ],
   "source": [
    "optimize!(model)\n",
    "println(\"Dedicated area $(JuMP.value.(x))\")\n",
    "println(\"Total bought $(JuMP.value.(y))\")\n",
    "println(\"Total sold $(JuMP.value.(w))\")\n",
    "println(\"Profit: $(JuMP.objective_value(model))\")"
   ]
  },
  {
   "cell_type": "code",
   "execution_count": null,
   "metadata": {},
   "outputs": [],
   "source": []
  }
 ],
 "metadata": {
  "kernelspec": {
   "display_name": "Julia 1.0.3",
   "language": "julia",
   "name": "julia-1.0"
  },
  "language_info": {
   "file_extension": ".jl",
   "mimetype": "application/julia",
   "name": "julia",
   "version": "1.0.3"
  }
 },
 "nbformat": 4,
 "nbformat_minor": 2
}
